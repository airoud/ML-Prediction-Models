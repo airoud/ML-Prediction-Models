{
  "nbformat": 4,
  "nbformat_minor": 0,
  "metadata": {
    "colab": {
      "name": "TESLA Inc Stock Price Prediction",
      "provenance": [],
      "authorship_tag": "ABX9TyNpKVQlZ6Nxj+g0fpjTaN2i",
      "include_colab_link": true
    },
    "kernelspec": {
      "name": "python3",
      "display_name": "Python 3"
    }
  },
  "cells": [
    {
      "cell_type": "markdown",
      "metadata": {
        "id": "view-in-github",
        "colab_type": "text"
      },
      "source": [
        "<a href=\"https://colab.research.google.com/github/airoud/ML-Prediction-Models/blob/main/TESLA_Inc_Stock_Price_Prediction.ipynb\" target=\"_parent\"><img src=\"https://colab.research.google.com/assets/colab-badge.svg\" alt=\"Open In Colab\"/></a>"
      ]
    },
    {
      "cell_type": "code",
      "metadata": {
        "id": "_JwsOAXRPmri"
      },
      "source": [
        "# Description : This progra uses and artificail recurent neural network called LSTM to predict \r\n",
        "# the closing stock price of a corporation ( Apple inc) using the past 60 day stock price"
      ],
      "execution_count": 2,
      "outputs": []
    },
    {
      "cell_type": "code",
      "metadata": {
        "id": "kJMvxMAxQ7TX"
      },
      "source": [
        "import math\r\n",
        "import pandas_datareader as web\r\n",
        "import numpy as np\r\n",
        "import pandas as pd \r\n",
        "from sklearn.preprocessing import MinMaxScaler\r\n",
        "from keras.models import Sequential\r\n",
        "from keras.layers import   Dense, LSTM\r\n",
        "import matplotlib.pyplot as plt\r\n",
        "plt.style.use('fivethirtyeight')"
      ],
      "execution_count": 3,
      "outputs": []
    },
    {
      "cell_type": "code",
      "metadata": {
        "colab": {
          "base_uri": "https://localhost:8080/",
          "height": 431
        },
        "id": "lSkYi9j-T41b",
        "outputId": "b1e938a2-316e-493c-b78e-2df733610e97"
      },
      "source": [
        " # Get the s tock quote\r\n",
        " df = web.DataReader('TSLA',data_source='yahoo',start='2013-01-01',end='2020-11-30')\r\n",
        " # Show the data\r\n",
        " df"
      ],
      "execution_count": 11,
      "outputs": [
        {
          "output_type": "execute_result",
          "data": {
            "text/html": [
              "<div>\n",
              "<style scoped>\n",
              "    .dataframe tbody tr th:only-of-type {\n",
              "        vertical-align: middle;\n",
              "    }\n",
              "\n",
              "    .dataframe tbody tr th {\n",
              "        vertical-align: top;\n",
              "    }\n",
              "\n",
              "    .dataframe thead th {\n",
              "        text-align: right;\n",
              "    }\n",
              "</style>\n",
              "<table border=\"1\" class=\"dataframe\">\n",
              "  <thead>\n",
              "    <tr style=\"text-align: right;\">\n",
              "      <th></th>\n",
              "      <th>High</th>\n",
              "      <th>Low</th>\n",
              "      <th>Open</th>\n",
              "      <th>Close</th>\n",
              "      <th>Volume</th>\n",
              "      <th>Adj Close</th>\n",
              "    </tr>\n",
              "    <tr>\n",
              "      <th>Date</th>\n",
              "      <th></th>\n",
              "      <th></th>\n",
              "      <th></th>\n",
              "      <th></th>\n",
              "      <th></th>\n",
              "      <th></th>\n",
              "    </tr>\n",
              "  </thead>\n",
              "  <tbody>\n",
              "    <tr>\n",
              "      <th>2013-01-02</th>\n",
              "      <td>7.090000</td>\n",
              "      <td>6.942000</td>\n",
              "      <td>7.000000</td>\n",
              "      <td>7.072000</td>\n",
              "      <td>5974000.0</td>\n",
              "      <td>7.072000</td>\n",
              "    </tr>\n",
              "    <tr>\n",
              "      <th>2013-01-03</th>\n",
              "      <td>7.090000</td>\n",
              "      <td>6.950000</td>\n",
              "      <td>7.036000</td>\n",
              "      <td>6.954000</td>\n",
              "      <td>3710000.0</td>\n",
              "      <td>6.954000</td>\n",
              "    </tr>\n",
              "    <tr>\n",
              "      <th>2013-01-04</th>\n",
              "      <td>6.960000</td>\n",
              "      <td>6.784000</td>\n",
              "      <td>6.960000</td>\n",
              "      <td>6.880000</td>\n",
              "      <td>3370000.0</td>\n",
              "      <td>6.880000</td>\n",
              "    </tr>\n",
              "    <tr>\n",
              "      <th>2013-01-07</th>\n",
              "      <td>6.960000</td>\n",
              "      <td>6.780000</td>\n",
              "      <td>6.960000</td>\n",
              "      <td>6.868000</td>\n",
              "      <td>2210000.0</td>\n",
              "      <td>6.868000</td>\n",
              "    </tr>\n",
              "    <tr>\n",
              "      <th>2013-01-08</th>\n",
              "      <td>6.900000</td>\n",
              "      <td>6.622000</td>\n",
              "      <td>6.900000</td>\n",
              "      <td>6.736000</td>\n",
              "      <td>6420000.0</td>\n",
              "      <td>6.736000</td>\n",
              "    </tr>\n",
              "    <tr>\n",
              "      <th>...</th>\n",
              "      <td>...</td>\n",
              "      <td>...</td>\n",
              "      <td>...</td>\n",
              "      <td>...</td>\n",
              "      <td>...</td>\n",
              "      <td>...</td>\n",
              "    </tr>\n",
              "    <tr>\n",
              "      <th>2020-11-23</th>\n",
              "      <td>526.000000</td>\n",
              "      <td>501.790009</td>\n",
              "      <td>503.500000</td>\n",
              "      <td>521.849976</td>\n",
              "      <td>50260300.0</td>\n",
              "      <td>521.849976</td>\n",
              "    </tr>\n",
              "    <tr>\n",
              "      <th>2020-11-24</th>\n",
              "      <td>559.989990</td>\n",
              "      <td>526.200012</td>\n",
              "      <td>540.400024</td>\n",
              "      <td>555.380005</td>\n",
              "      <td>53648500.0</td>\n",
              "      <td>555.380005</td>\n",
              "    </tr>\n",
              "    <tr>\n",
              "      <th>2020-11-25</th>\n",
              "      <td>574.000000</td>\n",
              "      <td>545.369995</td>\n",
              "      <td>550.059998</td>\n",
              "      <td>574.000000</td>\n",
              "      <td>48930200.0</td>\n",
              "      <td>574.000000</td>\n",
              "    </tr>\n",
              "    <tr>\n",
              "      <th>2020-11-27</th>\n",
              "      <td>598.780029</td>\n",
              "      <td>578.450012</td>\n",
              "      <td>581.159973</td>\n",
              "      <td>585.760010</td>\n",
              "      <td>37561100.0</td>\n",
              "      <td>585.760010</td>\n",
              "    </tr>\n",
              "    <tr>\n",
              "      <th>2020-11-30</th>\n",
              "      <td>607.799988</td>\n",
              "      <td>554.510010</td>\n",
              "      <td>602.210022</td>\n",
              "      <td>567.599976</td>\n",
              "      <td>63003100.0</td>\n",
              "      <td>567.599976</td>\n",
              "    </tr>\n",
              "  </tbody>\n",
              "</table>\n",
              "<p>1993 rows × 6 columns</p>\n",
              "</div>"
            ],
            "text/plain": [
              "                  High         Low  ...      Volume   Adj Close\n",
              "Date                                ...                        \n",
              "2013-01-02    7.090000    6.942000  ...   5974000.0    7.072000\n",
              "2013-01-03    7.090000    6.950000  ...   3710000.0    6.954000\n",
              "2013-01-04    6.960000    6.784000  ...   3370000.0    6.880000\n",
              "2013-01-07    6.960000    6.780000  ...   2210000.0    6.868000\n",
              "2013-01-08    6.900000    6.622000  ...   6420000.0    6.736000\n",
              "...                ...         ...  ...         ...         ...\n",
              "2020-11-23  526.000000  501.790009  ...  50260300.0  521.849976\n",
              "2020-11-24  559.989990  526.200012  ...  53648500.0  555.380005\n",
              "2020-11-25  574.000000  545.369995  ...  48930200.0  574.000000\n",
              "2020-11-27  598.780029  578.450012  ...  37561100.0  585.760010\n",
              "2020-11-30  607.799988  554.510010  ...  63003100.0  567.599976\n",
              "\n",
              "[1993 rows x 6 columns]"
            ]
          },
          "metadata": {
            "tags": []
          },
          "execution_count": 11
        }
      ]
    },
    {
      "cell_type": "code",
      "metadata": {
        "colab": {
          "base_uri": "https://localhost:8080/"
        },
        "id": "-sqdG6b2VH5Z",
        "outputId": "71b9c702-88cd-4ec6-e49d-562685cbf5d7"
      },
      "source": [
        "# Get the number of rows and columns in the data set\r\n",
        "df.shape"
      ],
      "execution_count": 12,
      "outputs": [
        {
          "output_type": "execute_result",
          "data": {
            "text/plain": [
              "(1993, 6)"
            ]
          },
          "metadata": {
            "tags": []
          },
          "execution_count": 12
        }
      ]
    },
    {
      "cell_type": "code",
      "metadata": {
        "colab": {
          "base_uri": "https://localhost:8080/",
          "height": 575
        },
        "id": "s4-ZWGoQVUb6",
        "outputId": "8b90f678-d856-491e-b8c6-39137febc39f"
      },
      "source": [
        "# Visualize te closing price history\r\n",
        "\r\n",
        "plt.figure(figsize=(16,8))\r\n",
        "plt.title('Close Price History')\r\n",
        "plt.plot(df['Close'])\r\n",
        "plt.xlabel('Date',fontsize=18)\r\n",
        "plt.ylabel('Close Price USD  ($)',fontsize=18 )\r\n",
        "  "
      ],
      "execution_count": 13,
      "outputs": [
        {
          "output_type": "execute_result",
          "data": {
            "text/plain": [
              "Text(0, 0.5, 'Close Price USD  ($)')"
            ]
          },
          "metadata": {
            "tags": []
          },
          "execution_count": 13
        },
        {
          "output_type": "display_data",
          "data": {
            "image/png": "[encoded data removed]",
            "text/plain": [
              "<Figure size 1152x576 with 1 Axes>"
            ]
          },
          "metadata": {
            "tags": []
          }
        }
      ]
    },
    {
      "cell_type": "code",
      "metadata": {
        "colab": {
          "base_uri": "https://localhost:8080/"
        },
        "id": "Qtjr1Ym-XXP_",
        "outputId": "0f381d7a-c476-4dab-ad0d-21ec9f393264"
      },
      "source": [
        "# Create a new dataframe with only the 'Close column'\r\n",
        "data = df.filter(['Close'])\r\n",
        "# Convert the dataframe to a numpy array\r\n",
        "dataset=data.values\r\n",
        "#Get the number of rows to train the model on \r\n",
        "training_data_len = math.ceil(len(dataset)*.8)\r\n",
        "\r\n",
        "training_data_len"
      ],
      "execution_count": 20,
      "outputs": [
        {
          "output_type": "execute_result",
          "data": {
            "text/plain": [
              "1595"
            ]
          },
          "metadata": {
            "tags": []
          },
          "execution_count": 20
        }
      ]
    },
    {
      "cell_type": "code",
      "metadata": {
        "colab": {
          "base_uri": "https://localhost:8080/"
        },
        "id": "S1Il2NmLYoxY",
        "outputId": "8a5c70fb-343d-4942-81df-82ced4d1bdc1"
      },
      "source": [
        "# Scale the data\r\n",
        "scaler = MinMaxScaler(feature_range=(0,1))\r\n",
        "scaled_data = scaler.fit_transform(dataset)    \r\n",
        "\r\n",
        "scaled_data"
      ],
      "execution_count": 22,
      "outputs": [
        {
          "output_type": "execute_result",
          "data": {
            "text/plain": [
              "array([[8.46027024e-04],\n",
              "       [6.42289954e-04],\n",
              "       [5.14522876e-04],\n",
              "       ...,\n",
              "       [9.79695345e-01],\n",
              "       [1.00000000e+00],\n",
              "       [9.68645159e-01]])"
            ]
          },
          "metadata": {
            "tags": []
          },
          "execution_count": 22
        }
      ]
    },
    {
      "cell_type": "code",
      "metadata": {
        "colab": {
          "base_uri": "https://localhost:8080/"
        },
        "id": "0Edyvz8CZjKP",
        "outputId": "6b439892-5350-4bb0-dc9d-f215e1e06688"
      },
      "source": [
        "# Create the training data set\r\n",
        "# Create the scaled training data set\r\n",
        "train_data = scaled_data[0:training_data_len ,:]\r\n",
        "# Split the data into x_train and y_train data sets\r\n",
        "x_train = [] \r\n",
        "y_train = []\r\n",
        "\r\n",
        "for i in range(60,len(train_data)):   \r\n",
        "  x_train.append(train_data[i-60:i,0])\r\n",
        "  y_train.append(train_data[i,0])\r\n",
        "  if i<= 61: \r\n",
        "    print(x_train)\r\n",
        "    print(y_train)\r\n",
        "    print()"
      ],
      "execution_count": 25,
      "outputs": [
        {
          "output_type": "stream",
          "text": [
            "[array([0.00084603, 0.00064229, 0.00051452, 0.0004938 , 0.00026589,\n",
            "       0.00025208, 0.0002141 , 0.        , 0.00012086, 0.00034186,\n",
            "       0.00041093, 0.00050762, 0.00055596, 0.00078732, 0.00106703,\n",
            "       0.00140889, 0.00140544, 0.00176802, 0.0017404 , 0.00159191,\n",
            "       0.00158846, 0.00186126, 0.00166788, 0.00180255, 0.00216168,\n",
            "       0.00226873, 0.00218586, 0.0019027 , 0.00171968, 0.00191306,\n",
            "       0.0018509 , 0.00142616, 0.00219967, 0.00194414, 0.00077696,\n",
            "       0.00110501, 0.00050762, 0.00052488, 0.00075624, 0.00066301,\n",
            "       0.00060085, 0.000922  , 0.00129149, 0.00165062, 0.00183709,\n",
            "       0.00191996, 0.00213751, 0.00214442, 0.00209607, 0.00136055,\n",
            "       0.00082185, 0.00077351, 0.00074934, 0.00104976, 0.00107048,\n",
            "       0.00128113, 0.00159536, 0.00170932, 0.00181291, 0.00171968])]\n",
            "[0.003805393911748131]\n",
            "\n",
            "[array([0.00084603, 0.00064229, 0.00051452, 0.0004938 , 0.00026589,\n",
            "       0.00025208, 0.0002141 , 0.        , 0.00012086, 0.00034186,\n",
            "       0.00041093, 0.00050762, 0.00055596, 0.00078732, 0.00106703,\n",
            "       0.00140889, 0.00140544, 0.00176802, 0.0017404 , 0.00159191,\n",
            "       0.00158846, 0.00186126, 0.00166788, 0.00180255, 0.00216168,\n",
            "       0.00226873, 0.00218586, 0.0019027 , 0.00171968, 0.00191306,\n",
            "       0.0018509 , 0.00142616, 0.00219967, 0.00194414, 0.00077696,\n",
            "       0.00110501, 0.00050762, 0.00052488, 0.00075624, 0.00066301,\n",
            "       0.00060085, 0.000922  , 0.00129149, 0.00165062, 0.00183709,\n",
            "       0.00191996, 0.00213751, 0.00214442, 0.00209607, 0.00136055,\n",
            "       0.00082185, 0.00077351, 0.00074934, 0.00104976, 0.00107048,\n",
            "       0.00128113, 0.00159536, 0.00170932, 0.00181291, 0.00171968]), array([0.00064229, 0.00051452, 0.0004938 , 0.00026589, 0.00025208,\n",
            "       0.0002141 , 0.        , 0.00012086, 0.00034186, 0.00041093,\n",
            "       0.00050762, 0.00055596, 0.00078732, 0.00106703, 0.00140889,\n",
            "       0.00140544, 0.00176802, 0.0017404 , 0.00159191, 0.00158846,\n",
            "       0.00186126, 0.00166788, 0.00180255, 0.00216168, 0.00226873,\n",
            "       0.00218586, 0.0019027 , 0.00171968, 0.00191306, 0.0018509 ,\n",
            "       0.00142616, 0.00219967, 0.00194414, 0.00077696, 0.00110501,\n",
            "       0.00050762, 0.00052488, 0.00075624, 0.00066301, 0.00060085,\n",
            "       0.000922  , 0.00129149, 0.00165062, 0.00183709, 0.00191996,\n",
            "       0.00213751, 0.00214442, 0.00209607, 0.00136055, 0.00082185,\n",
            "       0.00077351, 0.00074934, 0.00104976, 0.00107048, 0.00128113,\n",
            "       0.00159536, 0.00170932, 0.00181291, 0.00171968, 0.00380539])]\n",
            "[0.003805393911748131, 0.003946973490623054]\n",
            "\n"
          ],
          "name": "stdout"
        }
      ]
    },
    {
      "cell_type": "code",
      "metadata": {
        "id": "Kw8BrtITcIL9"
      },
      "source": [
        "#Convert the x_train and y_train to numpy arrays\r\n",
        "x_train,y_train= np.array(x_train),np.array(y_train)\r\n"
      ],
      "execution_count": 28,
      "outputs": []
    },
    {
      "cell_type": "code",
      "metadata": {
        "colab": {
          "base_uri": "https://localhost:8080/"
        },
        "id": "WCPWY1xEciMx",
        "outputId": "e3fb9035-a48c-4489-c69c-85ac86ab53e9"
      },
      "source": [
        "#Reshape the data\r\n",
        "x_train=np.reshape(x_train,(x_train.shape[0], x_ train.shape[1], 1)) \r\n",
        "x_train.shape"
      ],
      "execution_count": 30,
      "outputs": [
        {
          "output_type": "execute_result",
          "data": {
            "text/plain": [
              "(1535, 60, 1)"
            ]
          },
          "metadata": {
            "tags": []
          },
          "execution_count": 30
        }
      ]
    },
    {
      "cell_type": "code",
      "metadata": {
        "id": "86sS2fEddRG4"
      },
      "source": [
        "#Build the LSTM model\r\n",
        "model= Sequential()\r\n",
        "model.add(LSTM(50,return_sequences=True,input_shape=(x_train.shape[1],1)))\r\n",
        "model.add(LSTM(50,return_sequences=False))\r\n",
        "model.add(Dense(25))\r\n",
        "model.add(Dense(1))\r\n",
        " "
      ],
      "execution_count": 32,
      "outputs": []
    },
    {
      "cell_type": "code",
      "metadata": {
        "id": "YfX6QK7Wep85"
      },
      "source": [
        "#Compile the model\r\n",
        "model.compile(optimizer='adam', loss='mean_squared_error')\r\n"
      ],
      "execution_count": 36,
      "outputs": []
    },
    {
      "cell_type": "code",
      "metadata": {
        "colab": {
          "base_uri": "https://localhost:8080/"
        },
        "id": "O9mve1kie5_h",
        "outputId": "54fc9066-7867-49ab-fe55-86d0c23739ea"
      },
      "source": [
        "#Train the model \r\n",
        "model.fit(x_train,y_train, batch_size=1,epochs=1)"
      ],
      "execution_count": 37,
      "outputs": [
        {
          "output_type": "stream",
          "text": [
            "1535/1535 [==============================] - 36s 22ms/step - loss: 1.4409e-04\n"
          ],
          "name": "stdout"
        },
        {
          "output_type": "execute_result",
          "data": {
            "text/plain": [
              "<tensorflow.python.keras.callbacks.History at 0x7fd93cb301d0>"
            ]
          },
          "metadata": {
            "tags": []
          },
          "execution_count": 37
        }
      ]
    },
    {
      "cell_type": "code",
      "metadata": {
        "id": "xFdeDP9cfp9o"
      },
      "source": [
        "#Creating the testing data set\r\n",
        "# Creating a new array containing scaled values from index 1535 to 1993\r\n",
        "test_data = scaled_data[training_data_len-60:,:]\r\n",
        "#Create the data sets x_test and y_test\r\n",
        "x_test = []\r\n",
        "y_test = dataset[training_data_len:,:]\r\n",
        "for i in range(60,len(test_data)):\r\n",
        "  x_test.append(test_data[i-60:i,0])"
      ],
      "execution_count": 38,
      "outputs": []
    },
    {
      "cell_type": "code",
      "metadata": {
        "id": "wGJOiPVFhLXm"
      },
      "source": [
        "#Convert the data to a numpy array to use it in the LSTM Model\r\n",
        "x_test = np.array(x_test)\r\n"
      ],
      "execution_count": 39,
      "outputs": []
    },
    {
      "cell_type": "code",
      "metadata": {
        "id": "IY-eXCXchiMo"
      },
      "source": [
        "#Reshape the data\r\n",
        "x_test = np.reshape(x_test,(x_test.shape[0], x_test.shape[1], 1))"
      ],
      "execution_count": 41,
      "outputs": []
    },
    {
      "cell_type": "code",
      "metadata": {
        "id": "rtj2Wbi7h4zJ"
      },
      "source": [
        "#Get the models predicted price values\r\n",
        "predictions = model.predict(x_test)\r\n",
        "predictions=scaler.inverse_transform(predictions)\r\n"
      ],
      "execution_count": 42,
      "outputs": []
    },
    {
      "cell_type": "code",
      "metadata": {
        "colab": {
          "base_uri": "https://localhost:8080/"
        },
        "id": "A3aKZhLIiTqU",
        "outputId": "108a8865-265f-4ece-e81a-a09fe45e0b9c"
      },
      "source": [
        "#Get the root mean squared error (RMSE)\r\n",
        "rmse = np.sqrt(np.mean(predictions - y_test)**2)\r\n",
        "rmse\r\n",
        "\r\n"
      ],
      "execution_count": 43,
      "outputs": [
        {
          "output_type": "execute_result",
          "data": {
            "text/plain": [
              "5.391170472954985"
            ]
          },
          "metadata": {
            "tags": []
          },
          "execution_count": 43
        }
      ]
    },
    {
      "cell_type": "code",
      "metadata": {
        "colab": {
          "base_uri": "https://localhost:8080/",
          "height": 659
        },
        "id": "SXkuh8pDjGLH",
        "outputId": "7ba77c9f-edc5-475a-9066-c3d937a8eee5"
      },
      "source": [
        "#Plot the data \r\n",
        "train = data[:training_data_len]\r\n",
        "valid = data[training_data_len:]\r\n",
        "valid['Predictions'] = predictions\r\n",
        "#Visualize the data\r\n",
        "plt.figure(figsize=(16,8))\r\n",
        "plt.title('Model')\r\n",
        "plt.xlabel('Date',fontsize=18)\r\n",
        "plt.ylabel('Close Prise USD($)' ,fontsize=18)\r\n",
        "plt.plot(train['Close'])\r\n",
        "plt.plot(valid[['Close','Predictions']])\r\n",
        "plt.legend(['Train','Val','Predicitions'],loc='lower right')\r\n",
        "plt.show()"
      ],
      "execution_count": 47,
      "outputs": [
        {
          "output_type": "stream",
          "text": [
            "/usr/local/lib/python3.6/dist-packages/ipykernel_launcher.py:4: SettingWithCopyWarning: \n",
            "A value is trying to be set on a copy of a slice from a DataFrame.\n",
            "Try using .loc[row_indexer,col_indexer] = value instead\n",
            "\n",
            "See the caveats in the documentation: https://pandas.pydata.org/pandas-docs/stable/user_guide/indexing.html#returning-a-view-versus-a-copy\n",
            "  after removing the cwd from sys.path.\n"
          ],
          "name": "stderr"
        },
        {
          "output_type": "display_data",
          "data": {
            "image/png": "[encoded data removed]",
            "text/plain": [
              "<Figure size 1152x576 with 1 Axes>"
            ]
          },
          "metadata": {
            "tags": []
          }
        }
      ]
    },
    {
      "cell_type": "code",
      "metadata": {
        "colab": {
          "base_uri": "https://localhost:8080/",
          "height": 431
        },
        "id": "p2zRI78pjHsP",
        "outputId": "5205a0a1-8eca-4f8e-e8f7-b6cfae7c48cc"
      },
      "source": [
        "#Show the valid and predicted prices\r\n",
        "valid"
      ],
      "execution_count": 48,
      "outputs": [
        {
          "output_type": "execute_result",
          "data": {
            "text/html": [
              "<div>\n",
              "<style scoped>\n",
              "    .dataframe tbody tr th:only-of-type {\n",
              "        vertical-align: middle;\n",
              "    }\n",
              "\n",
              "    .dataframe tbody tr th {\n",
              "        vertical-align: top;\n",
              "    }\n",
              "\n",
              "    .dataframe thead th {\n",
              "        text-align: right;\n",
              "    }\n",
              "</style>\n",
              "<table border=\"1\" class=\"dataframe\">\n",
              "  <thead>\n",
              "    <tr style=\"text-align: right;\">\n",
              "      <th></th>\n",
              "      <th>Close</th>\n",
              "      <th>Predictions</th>\n",
              "    </tr>\n",
              "    <tr>\n",
              "      <th>Date</th>\n",
              "      <th></th>\n",
              "      <th></th>\n",
              "    </tr>\n",
              "  </thead>\n",
              "  <tbody>\n",
              "    <tr>\n",
              "      <th>2019-05-06</th>\n",
              "      <td>51.068001</td>\n",
              "      <td>49.145153</td>\n",
              "    </tr>\n",
              "    <tr>\n",
              "      <th>2019-05-07</th>\n",
              "      <td>49.411999</td>\n",
              "      <td>49.651798</td>\n",
              "    </tr>\n",
              "    <tr>\n",
              "      <th>2019-05-08</th>\n",
              "      <td>48.967999</td>\n",
              "      <td>49.979603</td>\n",
              "    </tr>\n",
              "    <tr>\n",
              "      <th>2019-05-09</th>\n",
              "      <td>48.396000</td>\n",
              "      <td>50.106209</td>\n",
              "    </tr>\n",
              "    <tr>\n",
              "      <th>2019-05-10</th>\n",
              "      <td>47.903999</td>\n",
              "      <td>50.028229</td>\n",
              "    </tr>\n",
              "    <tr>\n",
              "      <th>...</th>\n",
              "      <td>...</td>\n",
              "      <td>...</td>\n",
              "    </tr>\n",
              "    <tr>\n",
              "      <th>2020-11-23</th>\n",
              "      <td>521.849976</td>\n",
              "      <td>449.267090</td>\n",
              "    </tr>\n",
              "    <tr>\n",
              "      <th>2020-11-24</th>\n",
              "      <td>555.380005</td>\n",
              "      <td>463.901520</td>\n",
              "    </tr>\n",
              "    <tr>\n",
              "      <th>2020-11-25</th>\n",
              "      <td>574.000000</td>\n",
              "      <td>481.563141</td>\n",
              "    </tr>\n",
              "    <tr>\n",
              "      <th>2020-11-27</th>\n",
              "      <td>585.760010</td>\n",
              "      <td>499.973541</td>\n",
              "    </tr>\n",
              "    <tr>\n",
              "      <th>2020-11-30</th>\n",
              "      <td>567.599976</td>\n",
              "      <td>517.138672</td>\n",
              "    </tr>\n",
              "  </tbody>\n",
              "</table>\n",
              "<p>398 rows × 2 columns</p>\n",
              "</div>"
            ],
            "text/plain": [
              "                 Close  Predictions\n",
              "Date                               \n",
              "2019-05-06   51.068001    49.145153\n",
              "2019-05-07   49.411999    49.651798\n",
              "2019-05-08   48.967999    49.979603\n",
              "2019-05-09   48.396000    50.106209\n",
              "2019-05-10   47.903999    50.028229\n",
              "...                ...          ...\n",
              "2020-11-23  521.849976   449.267090\n",
              "2020-11-24  555.380005   463.901520\n",
              "2020-11-25  574.000000   481.563141\n",
              "2020-11-27  585.760010   499.973541\n",
              "2020-11-30  567.599976   517.138672\n",
              "\n",
              "[398 rows x 2 columns]"
            ]
          },
          "metadata": {
            "tags": []
          },
          "execution_count": 48
        }
      ]
    }
  ]
}